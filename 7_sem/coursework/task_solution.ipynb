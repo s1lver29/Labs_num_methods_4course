{
 "cells": [
  {
   "cell_type": "markdown",
   "metadata": {},
   "source": [
    "# Курсовая"
   ]
  },
  {
   "cell_type": "markdown",
   "metadata": {},
   "source": [
    "## Вариант 19  \n",
    "Решить краевую задачу для обыкновенного дифференциального уравнения второго порядка  \n",
    "$$\n",
    "\\begin{equation*}\n",
    "\\begin{cases}\n",
    "xy''-(2x+1)y'+(x+1)y=0\\\\\n",
    "y'(1)=3e\\\\\n",
    "py(2)+qy'(2)=0\n",
    "\\end{cases}\n",
    "\\end{equation*}\n",
    "$$  \n",
    "где *p* и *q* удовлетворяют системе уравнений\n",
    "$$\n",
    "\\begin{equation*}\n",
    "\\begin{cases}\n",
    "sin(p+0.5) + q = 0\\\\\n",
    "cos(q-0.5) - 1.1p = 3\n",
    "\\end{cases}\n",
    "\\end{equation*}\n",
    "$$"
   ]
  },
  {
   "cell_type": "markdown",
   "metadata": {},
   "source": [
    "#### Решение задачи  \n",
    "Решение задачи будет заключаться в решениях СНАУ *методом Ньютона* и краевой задачи для ОДУ второго порядка *методом стрельбы*.  \n"
   ]
  }
 ],
 "metadata": {
  "kernelspec": {
   "display_name": "Python 3.9.12 ('base')",
   "language": "python",
   "name": "python3"
  },
  "language_info": {
   "name": "python",
   "version": "3.9.12"
  },
  "orig_nbformat": 4,
  "vscode": {
   "interpreter": {
    "hash": "1bb09490d35246538c582e080956e6e33e436a6ac2abae2bb54e56bd010117a3"
   }
  }
 },
 "nbformat": 4,
 "nbformat_minor": 2
}
