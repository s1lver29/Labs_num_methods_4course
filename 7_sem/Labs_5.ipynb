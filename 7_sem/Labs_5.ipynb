{
 "cells": [
  {
   "cell_type": "markdown",
   "metadata": {},
   "source": [
    "Example task: https://github.com/kpmooney/numerical_methods_youtube/blob/master/bvp/Shooting%20Method.ipynb"
   ]
  },
  {
   "cell_type": "code",
   "execution_count": 3,
   "metadata": {},
   "outputs": [],
   "source": [
    "import numpy as np\n",
    "import plotly.graph_objects as go\n",
    "from plotly.subplots import make_subplots"
   ]
  },
  {
   "cell_type": "markdown",
   "metadata": {},
   "source": [
    "# Лабораторная 5\n",
    "Решить краевую задачу для ОДУ второго порядка методом стрельбы\n",
    "$$ (x^2-1)y''+(x-3)y'-y=0\\\\\n",
    "    y'(1)+y(1)=-0.75 \\\\\n",
    "    y(0)=-2 $$"
   ]
  },
  {
   "cell_type": "markdown",
   "metadata": {},
   "source": [
    "Можно поделить на $(x^2-1)$ и перенести два последних слагаемых направо:\n",
    "$$y'' = \\frac{y}{x^2-1} - \\frac{x-3}{x^2-1}y'$$  \n",
    "Далее сделать замену $z = y'$\n",
    "$$z' = \\frac{y}{x^2-1} - \\frac{x-3}{x^2-1}z$$"
   ]
  },
  {
   "cell_type": "code",
   "execution_count": 89,
   "metadata": {},
   "outputs": [],
   "source": [
    "def f_xy(x, y, z): return y/(x**2-1) - z*(x-3)/(x**2-1)"
   ]
  },
  {
   "cell_type": "code",
   "execution_count": 90,
   "metadata": {},
   "outputs": [],
   "source": [
    "def euler(z_diff, x_init: float, right_border_x: float, y_init: float, z_init:float, h: float = 0.01) -> tuple[list, list]:\n",
    "    \"\"\"\n",
    "    Решение задачи Коши для обычного дифференциального уравнения второго порядка методом Эйлера\n",
    "\n",
    "    Params\n",
    "    -------\n",
    "    z_diff : функция дифференциального уравнения, выраженное с заменой z = y'(x)\n",
    "    x_init : начальная итерация по x\n",
    "    right_border : последняя точка для итерации по x\n",
    "    y_init: начальная точка для y\n",
    "    z_init: начальная точка для y'\n",
    "    h : шаг для разбиения интервала по x\n",
    "\n",
    "    Returns\n",
    "    -------\n",
    "    y_arr : массив из точек, значениями которого являются значение функции y\n",
    "    z_arr : массив из точек, значениями которого являются значение функции y'\n",
    "    \"\"\"\n",
    "    z_arr = [z_init]\n",
    "    y_arr = [y_init]\n",
    "    for x_i in np.arange(x_init, right_border_x, h):\n",
    "        z_arr.append(z_arr[-1] + h * z_diff(x_i, y_arr[-1], z_arr[-1]))\n",
    "        y_arr.append(y_arr[-1] + h * z_arr[-1])\n",
    "    return y_arr, z_arr"
   ]
  },
  {
   "cell_type": "code",
   "execution_count": 108,
   "metadata": {},
   "outputs": [],
   "source": [
    "def ShootingMeth(f_xy, func_diff, x_init:float, right_border:float, y_init:float, z_interval:list, bord_cond:list, max_iter:int=30) -> list:\n",
    "    \"\"\"\n",
    "    Params\n",
    "    -------\n",
    "    f_xy : функция дифференциального уравнения, выраженное с заменой z = y'(x)\n",
    "    func_diff : функция, по которой будет решаться дифференциальное уравнение\n",
    "    x_init : начальная итерация по x\n",
    "    right_border : последняя точка для итерации по x\n",
    "    y_init: начальная точка для y\n",
    "    z_interval : примерный интервал, в котором может находится начальная точка y' \n",
    "    bord_cond : первое условие для задачи Коши\n",
    "    max_iter : максимальное количество инераций\n",
    "\n",
    "    Returns\n",
    "    -------\n",
    "    y_arr : массив из точек, значениями которого являются значение функции y\n",
    "    z_arr : массив из точек, значениями которого являются значение функции y'\n",
    "    \"\"\"\n",
    "    count = 0\n",
    "    eps = 1e-5\n",
    "    y_arr, z_arr = [], []\n",
    "    while count <= max_iter:\n",
    "        count += 1\n",
    "        zprime_0 = np.mean(z_interval)\n",
    "\n",
    "        y_arr, z_arr = func_diff(f_xy, right_border, x_init, y_init, zprime_0)\n",
    "\n",
    "        temp_bord_cond = bord_cond[0]*y_arr[-1] + bord_cond[1]*z_arr[-1] - bord_cond[2] # y'(0) + y(0) - (-0.75)\n",
    "\n",
    "        if abs(temp_bord_cond) < eps:\n",
    "            break\n",
    "        \n",
    "        if temp_bord_cond < 0:\n",
    "            z_interval[0] = zprime_0\n",
    "        else:\n",
    "            z_interval[1] = zprime_0\n",
    "\n",
    "        print(f'Iteration:{count}\\nlast_y = {y_arr[-1]}; last_z = {z_arr[-1]}')\n",
    "        print('-'*60)\n",
    "    return y_arr, z_arr"
   ]
  },
  {
   "cell_type": "code",
   "execution_count": 110,
   "metadata": {},
   "outputs": [
    {
     "name": "stdout",
     "output_type": "stream",
     "text": [
      "Iteration:1\n",
      "last_y = -2.5862490875210398; last_z = 1.2933070395528663\n",
      "------------------------------------------------------------\n",
      "Iteration:2\n",
      "last_y = -1.9193745731953242; last_z = 0.9597726475327919\n",
      "------------------------------------------------------------\n",
      "Iteration:3\n",
      "last_y = -1.5859373160324681; last_z = 0.7930054515227556\n",
      "------------------------------------------------------------\n",
      "Iteration:4\n",
      "last_y = -1.4192186874510402; last_z = 0.7096218535177373\n",
      "------------------------------------------------------------\n",
      "Iteration:5\n",
      "last_y = -1.5025780017417538; last_z = 0.7513136525202462\n",
      "------------------------------------------------------------\n",
      "Iteration:6\n",
      "last_y = -1.4608983445963954; last_z = 0.7304677530189911\n",
      "------------------------------------------------------------\n",
      "Iteration:7\n",
      "last_y = -1.4817381731690744; last_z = 0.7408907027696185\n",
      "------------------------------------------------------------\n",
      "Iteration:8\n",
      "last_y = -1.4921580874554137; last_z = 0.7461021776449324\n",
      "------------------------------------------------------------\n",
      "Iteration:9\n",
      "last_y = -1.4973680445985842; last_z = 0.7487079150825895\n",
      "------------------------------------------------------------\n",
      "Iteration:10\n",
      "last_y = -1.499973023170167; last_z = 0.750010783801417\n",
      "------------------------------------------------------------\n",
      "Iteration:11\n",
      "last_y = -1.5012755124559618; last_z = 0.7506622181608322\n",
      "------------------------------------------------------------\n",
      "Iteration:12\n",
      "last_y = -1.5006242678130646; last_z = 0.7503365009811246\n",
      "------------------------------------------------------------\n",
      "Iteration:13\n",
      "last_y = -1.5002986454916163; last_z = 0.7501736423912712\n",
      "------------------------------------------------------------\n",
      "Iteration:14\n",
      "last_y = -1.5001358343308915; last_z = 0.7500922130963439\n",
      "------------------------------------------------------------\n",
      "Final result: y_last = -1.5000544287505286, z_last = 0.7500514984488802\n"
     ]
    }
   ],
   "source": [
    "x_init, right_border, y_init, z_interval, bord_cond = 0, 1, -2, [-10, 1], [1, 1, -.75]  \n",
    "y, z = ShootingMeth(f_xy, euler, x_init, right_border, y_init, z_interval, bord_cond)\n",
    "print(f'Final result: y_last = {y[-1]}, z_last = {z[-1]}')"
   ]
  },
  {
   "cell_type": "code",
   "execution_count": null,
   "metadata": {},
   "outputs": [],
   "source": []
  }
 ],
 "metadata": {
  "kernelspec": {
   "display_name": "Python 3.9.12 ('base')",
   "language": "python",
   "name": "python3"
  },
  "language_info": {
   "codemirror_mode": {
    "name": "ipython",
    "version": 3
   },
   "file_extension": ".py",
   "mimetype": "text/x-python",
   "name": "python",
   "nbconvert_exporter": "python",
   "pygments_lexer": "ipython3",
   "version": "3.9.12"
  },
  "orig_nbformat": 4,
  "vscode": {
   "interpreter": {
    "hash": "1bb09490d35246538c582e080956e6e33e436a6ac2abae2bb54e56bd010117a3"
   }
  }
 },
 "nbformat": 4,
 "nbformat_minor": 2
}
